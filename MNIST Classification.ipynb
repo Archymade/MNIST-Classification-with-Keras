{
 "cells": [
  {
   "cell_type": "code",
   "metadata": {
    "tags": [],
    "cell_id": "00000-51185e0e-baa2-4699-a752-4e104f30b892",
    "deepnote_to_be_reexecuted": false,
    "source_hash": "dc95358c",
    "execution_start": 1628514447832,
    "execution_millis": 5887,
    "deepnote_cell_type": "code"
   },
   "source": "### Import tensorflow, keras, and numpy\nimport tensorflow as tf\nfrom tensorflow import keras\nimport numpy as np\nimport time",
   "execution_count": 1,
   "outputs": [
    {
     "name": "stderr",
     "text": "2021-08-09 13:07:27.947032: W tensorflow/stream_executor/platform/default/dso_loader.cc:60] Could not load dynamic library 'libcudart.so.11.0'; dlerror: libcudart.so.11.0: cannot open shared object file: No such file or directory\n2021-08-09 13:07:27.947068: I tensorflow/stream_executor/cuda/cudart_stub.cc:29] Ignore above cudart dlerror if you do not have a GPU set up on your machine.\n",
     "output_type": "stream"
    }
   ]
  },
  {
   "cell_type": "code",
   "metadata": {
    "tags": [],
    "cell_id": "00001-f5bf9eb8-7db1-42b5-b612-44fdb9c5bc8e",
    "deepnote_to_be_reexecuted": false,
    "source_hash": "57f17f98",
    "execution_start": 1628514453721,
    "execution_millis": 99,
    "deepnote_cell_type": "code"
   },
   "source": "### Import required objects from keras\nfrom keras.datasets import mnist\nfrom keras.layers import Dense, Conv2D, BatchNormalization, MaxPool2D\nfrom keras.layers import Activation, Input, Flatten, Dropout\nfrom keras.models import Model\nfrom keras.utils import to_categorical",
   "execution_count": 2,
   "outputs": []
  },
  {
   "cell_type": "code",
   "metadata": {
    "tags": [],
    "cell_id": "00002-9bb76102-f33c-4ad3-8b14-2c138b7405d9",
    "deepnote_to_be_reexecuted": false,
    "source_hash": "b8c837e4",
    "execution_start": 1628514453862,
    "execution_millis": 506,
    "deepnote_cell_type": "code"
   },
   "source": "### Set Random Seed\nseed = np.random.default_rng(2021)\n\n### Load in the dataset\n(X_train, y_train), (X_test, y_test) = mnist.load_data()\n\n### Number of classes\nprint(f'The dataset has {len(np.unique(y_train))} distinct classes.')\n\n### Scale down the datasets\nX_train, X_test = X_train.astype('float32')/255, X_test.astype('float32')/255\n\n### Network params\nIMAGE_SIZE = X_train.shape[1]\nBATCH_SIZE = 64\nINPUT_SHAPE = [IMAGE_SIZE, IMAGE_SIZE, 1] ### Image width, image height, number of channels",
   "execution_count": 3,
   "outputs": [
    {
     "name": "stdout",
     "text": "Downloading data from https://storage.googleapis.com/tensorflow/tf-keras-datasets/mnist.npz\n11493376/11490434 [==============================] - 0s 0us/step\nThe dataset has 10 distinct classes.\n",
     "output_type": "stream"
    }
   ]
  },
  {
   "cell_type": "code",
   "metadata": {
    "tags": [],
    "cell_id": "00003-e1972f6b-0d2c-40ba-a445-c7a79bd06522",
    "deepnote_to_be_reexecuted": false,
    "source_hash": "7ae7c908",
    "execution_start": 1628514454377,
    "execution_millis": 49,
    "deepnote_cell_type": "code"
   },
   "source": "IMAGE_SIZE",
   "execution_count": 4,
   "outputs": [
    {
     "output_type": "execute_result",
     "execution_count": 4,
     "data": {
      "text/plain": "28"
     },
     "metadata": {}
    }
   ]
  },
  {
   "cell_type": "code",
   "metadata": {
    "tags": [],
    "cell_id": "00004-0e8968ec-1050-47df-887e-27762d498521",
    "deepnote_to_be_reexecuted": false,
    "source_hash": "b92f1a9a",
    "execution_start": 1628514454391,
    "execution_millis": 35,
    "deepnote_cell_type": "code"
   },
   "source": "INPUT_SHAPE",
   "execution_count": 5,
   "outputs": [
    {
     "output_type": "execute_result",
     "execution_count": 5,
     "data": {
      "text/plain": "[28, 28, 1]"
     },
     "metadata": {}
    }
   ]
  },
  {
   "cell_type": "code",
   "metadata": {
    "tags": [],
    "cell_id": "00005-39a6f7d0-930e-43e6-91ac-a7329baacf66",
    "deepnote_to_be_reexecuted": false,
    "source_hash": "38f368cd",
    "execution_start": 1628514454401,
    "execution_millis": 0,
    "deepnote_cell_type": "code"
   },
   "source": "X_train.shape",
   "execution_count": 6,
   "outputs": [
    {
     "output_type": "execute_result",
     "execution_count": 6,
     "data": {
      "text/plain": "(60000, 28, 28)"
     },
     "metadata": {}
    }
   ]
  },
  {
   "cell_type": "code",
   "metadata": {
    "tags": [],
    "cell_id": "00006-30f426b5-0486-4880-b219-e073f6f05429",
    "deepnote_to_be_reexecuted": false,
    "source_hash": "9cd47083",
    "execution_start": 1628514454451,
    "execution_millis": 7771160,
    "deepnote_cell_type": "code"
   },
   "source": "y_train.shape",
   "execution_count": 7,
   "outputs": [
    {
     "output_type": "execute_result",
     "execution_count": 7,
     "data": {
      "text/plain": "(60000,)"
     },
     "metadata": {}
    }
   ]
  },
  {
   "cell_type": "code",
   "metadata": {
    "tags": [],
    "cell_id": "00007-0f3b31da-ecce-4de5-9937-681bce541be6",
    "deepnote_to_be_reexecuted": false,
    "source_hash": "953a8cdc",
    "execution_start": 1628514454452,
    "execution_millis": 3,
    "deepnote_cell_type": "code"
   },
   "source": "y_test.shape",
   "execution_count": 8,
   "outputs": []
  },
  {
   "cell_type": "code",
   "metadata": {
    "tags": [],
    "cell_id": "00007-8109604f-828c-478b-925c-b265129ba6cd",
    "deepnote_to_be_reexecuted": false,
    "source_hash": "ec3e5037",
    "execution_start": 1628514454453,
    "execution_millis": 36,
    "deepnote_cell_type": "code"
   },
   "source": "### Reshape and one-hot encode class labels\ny_train = np.reshape(y_train, newshape = (60000, 1))\ny_test = np.reshape(y_test, newshape = (10000, 1))\n\ny_train = to_categorical(y_train)\ny_test = to_categorical(y_test)",
   "execution_count": 9,
   "outputs": []
  },
  {
   "cell_type": "code",
   "metadata": {
    "tags": [],
    "cell_id": "00004-1a17afd8-6cb9-473d-8d64-01f677d285bc",
    "deepnote_to_be_reexecuted": false,
    "source_hash": "65ba5eb9",
    "execution_start": 1628514454473,
    "execution_millis": 7771191,
    "deepnote_cell_type": "code"
   },
   "source": "### Build CNN classifier\ndef build_cnn_classifier():\n    inputs = Input(shape = INPUT_SHAPE, name = 'Input layer')\n    ### 28 BY 28\n    x = Conv2D(filters = 6, kernel_size = 3, padding = 'same') (inputs)\n    x = MaxPool2D(pool_size = 2, padding = 'same') (x)\n    ### 26 BY 26\n    x = Conv2D(filters = 16, kernel_size = 3, padding = 'same', activation = 'relu') (x)\n    x = MaxPool2D(pool_size = 2, padding = 'same') (x)\n    ### 24 BY 24\n    x = Conv2D(filters = 32, kernel_size = 3, padding = 'same', activation = 'relu') (x)\n    x = MaxPool2D(pool_size = 2, padding = 'same') (x)\n    ### 22 BY 22\n    x = Conv2D(filters = 64, kernel_size = 3, padding = 'same', activation = 'relu') (x)\n    x = MaxPool2D(pool_size = 2, padding = 'same') (x)\n\n    ### Flatten\n    x = Flatten() (x)\n    x = Dropout(0.2) (x)\n    x = Dense(128, activation = 'relu') (x)\n    x = Dropout(0.2) (x)\n    x = Dense(64, activation = 'relu') (x)\n    x = Dropout(0.2) (x)\n    x = Dense(10, activation = 'softmax') (x)\n\n    return Model(inputs = inputs, outputs = x)",
   "execution_count": 10,
   "outputs": []
  },
  {
   "cell_type": "code",
   "metadata": {
    "tags": [],
    "cell_id": "00005-52145ba1-8279-4509-b880-9880324252de",
    "deepnote_to_be_reexecuted": false,
    "source_hash": "7dd6c41b",
    "execution_start": 1628514454474,
    "execution_millis": 185,
    "deepnote_cell_type": "code"
   },
   "source": "cnn_model = build_cnn_classifier()",
   "execution_count": 11,
   "outputs": [
    {
     "name": "stderr",
     "text": "2021-08-09 13:07:34.469681: I tensorflow/compiler/jit/xla_cpu_device.cc:41] Not creating XLA devices, tf_xla_enable_xla_devices not set\n2021-08-09 13:07:34.472662: W tensorflow/stream_executor/platform/default/dso_loader.cc:60] Could not load dynamic library 'libcuda.so.1'; dlerror: libcuda.so.1: cannot open shared object file: No such file or directory\n2021-08-09 13:07:34.472687: W tensorflow/stream_executor/cuda/cuda_driver.cc:326] failed call to cuInit: UNKNOWN ERROR (303)\n2021-08-09 13:07:34.472712: I tensorflow/stream_executor/cuda/cuda_diagnostics.cc:156] kernel driver does not appear to be running on this host (p-cedde139-93f2-4278-8e9d-d80931c4b7dc): /proc/driver/nvidia/version does not exist\n2021-08-09 13:07:34.473571: I tensorflow/core/platform/cpu_feature_guard.cc:142] This TensorFlow binary is optimized with oneAPI Deep Neural Network Library (oneDNN) to use the following CPU instructions in performance-critical operations:  AVX2 AVX512F FMA\nTo enable them in other operations, rebuild TensorFlow with the appropriate compiler flags.\n2021-08-09 13:07:34.473790: I tensorflow/compiler/jit/xla_gpu_device.cc:99] Not creating XLA devices, tf_xla_enable_xla_devices not set\n",
     "output_type": "stream"
    }
   ]
  },
  {
   "cell_type": "code",
   "metadata": {
    "tags": [],
    "cell_id": "00006-92aa8909-8def-47c7-9573-c7dd1ce183e7",
    "deepnote_to_be_reexecuted": false,
    "source_hash": "2feabbe2",
    "execution_start": 1628514454643,
    "execution_millis": 24,
    "deepnote_cell_type": "code"
   },
   "source": "### Encoder summary\ncnn_model.summary()",
   "execution_count": 12,
   "outputs": [
    {
     "name": "stdout",
     "text": "Model: \"model\"\n_________________________________________________________________\nLayer (type)                 Output Shape              Param #   \n=================================================================\nInput layer (InputLayer)     [(None, 28, 28, 1)]       0         \n_________________________________________________________________\nconv2d (Conv2D)              (None, 28, 28, 6)         60        \n_________________________________________________________________\nmax_pooling2d (MaxPooling2D) (None, 14, 14, 6)         0         \n_________________________________________________________________\nconv2d_1 (Conv2D)            (None, 14, 14, 16)        880       \n_________________________________________________________________\nmax_pooling2d_1 (MaxPooling2 (None, 7, 7, 16)          0         \n_________________________________________________________________\nconv2d_2 (Conv2D)            (None, 7, 7, 32)          4640      \n_________________________________________________________________\nmax_pooling2d_2 (MaxPooling2 (None, 4, 4, 32)          0         \n_________________________________________________________________\nconv2d_3 (Conv2D)            (None, 4, 4, 64)          18496     \n_________________________________________________________________\nmax_pooling2d_3 (MaxPooling2 (None, 2, 2, 64)          0         \n_________________________________________________________________\nflatten (Flatten)            (None, 256)               0         \n_________________________________________________________________\ndropout (Dropout)            (None, 256)               0         \n_________________________________________________________________\ndense (Dense)                (None, 128)               32896     \n_________________________________________________________________\ndropout_1 (Dropout)          (None, 128)               0         \n_________________________________________________________________\ndense_1 (Dense)              (None, 64)                8256      \n_________________________________________________________________\ndropout_2 (Dropout)          (None, 64)                0         \n_________________________________________________________________\ndense_2 (Dense)              (None, 10)                650       \n=================================================================\nTotal params: 65,878\nTrainable params: 65,878\nNon-trainable params: 0\n_________________________________________________________________\n",
     "output_type": "stream"
    }
   ]
  },
  {
   "cell_type": "code",
   "metadata": {
    "tags": [],
    "cell_id": "00008-a4213081-a7bb-4868-9f97-0fff00c835eb",
    "deepnote_to_be_reexecuted": false,
    "source_hash": "d39390ba",
    "execution_start": 1628514454726,
    "execution_millis": 0,
    "deepnote_cell_type": "code"
   },
   "source": "### Import and instantiate optimizer\nfrom keras.optimizers import RMSprop, SGD\noptimizer = SGD(learning_rate = 0.001, momentum = 0.0)\n\n### Compile model\ncnn_model.compile(loss = 'categorical_crossentropy', optimizer = optimizer,\n                  metrics = ['accuracy'])",
   "execution_count": 13,
   "outputs": []
  },
  {
   "cell_type": "code",
   "metadata": {
    "tags": [],
    "cell_id": "00010-f16528d0-1845-4bc7-9d28-06dfcf443423",
    "deepnote_to_be_reexecuted": false,
    "source_hash": "f548a2c",
    "execution_start": 1628514454727,
    "execution_millis": 0,
    "deepnote_cell_type": "code"
   },
   "source": "### Import and instantiate a learning rate scheduler\nfrom keras.callbacks import ReduceLROnPlateau\n\nlr_scheduler = ReduceLROnPlateau(monitor = 'val_loss', patience = 5,\n                                 verbose = 1, min_lr = 0.0001, factor = 0.1)",
   "execution_count": 14,
   "outputs": []
  },
  {
   "cell_type": "code",
   "metadata": {
    "tags": [],
    "cell_id": "00009-67e7e3f6-8f18-49f2-a3d9-b6a05c2d9073",
    "deepnote_to_be_reexecuted": false,
    "source_hash": "235952b4",
    "execution_start": 1628514454727,
    "execution_millis": 3302885,
    "deepnote_cell_type": "code"
   },
   "source": "### Fit model\ncnn_model.fit(X_train, y_train, epochs = 100, batch_size = BATCH_SIZE, verbose = 2,\n              callbacks = [lr_scheduler], validation_data = (X_test, y_test))",
   "execution_count": 15,
   "outputs": [
    {
     "name": "stderr",
     "text": "2021-08-09 13:07:34.945201: I tensorflow/compiler/mlir/mlir_graph_optimization_pass.cc:116] None of the MLIR optimization passes are enabled (registered 2)\n2021-08-09 13:07:34.956599: I tensorflow/core/platform/profile_utils/cpu_utils.cc:112] CPU Frequency: 2500000000 Hz\nEpoch 1/100\n938/938 - 36s - loss: 2.2961 - accuracy: 0.1174 - val_loss: 2.2815 - val_accuracy: 0.1466\nEpoch 2/100\n938/938 - 45s - loss: 2.2799 - accuracy: 0.1563 - val_loss: 2.2565 - val_accuracy: 0.2785\nEpoch 3/100\n938/938 - 39s - loss: 2.2558 - accuracy: 0.2007 - val_loss: 2.2141 - val_accuracy: 0.3402\nEpoch 4/100\n938/938 - 33s - loss: 2.2063 - accuracy: 0.2503 - val_loss: 2.1165 - val_accuracy: 0.4419\nEpoch 5/100\n938/938 - 32s - loss: 2.0836 - accuracy: 0.3043 - val_loss: 1.8514 - val_accuracy: 0.5700\nEpoch 6/100\n938/938 - 32s - loss: 1.8221 - accuracy: 0.3836 - val_loss: 1.3975 - val_accuracy: 0.6598\nEpoch 7/100\n938/938 - 32s - loss: 1.4541 - accuracy: 0.5092 - val_loss: 0.9264 - val_accuracy: 0.7688\nEpoch 8/100\n938/938 - 32s - loss: 1.1022 - accuracy: 0.6273 - val_loss: 0.6395 - val_accuracy: 0.8232\nEpoch 9/100\n938/938 - 32s - loss: 0.8685 - accuracy: 0.7078 - val_loss: 0.4879 - val_accuracy: 0.8640\nEpoch 10/100\n938/938 - 32s - loss: 0.7226 - accuracy: 0.7587 - val_loss: 0.4004 - val_accuracy: 0.8877\nEpoch 11/100\n938/938 - 32s - loss: 0.6164 - accuracy: 0.7973 - val_loss: 0.3396 - val_accuracy: 0.9033\nEpoch 12/100\n938/938 - 32s - loss: 0.5385 - accuracy: 0.8278 - val_loss: 0.2904 - val_accuracy: 0.9174\nEpoch 13/100\n938/938 - 32s - loss: 0.4775 - accuracy: 0.8473 - val_loss: 0.2578 - val_accuracy: 0.9264\nEpoch 14/100\n938/938 - 33s - loss: 0.4292 - accuracy: 0.8638 - val_loss: 0.2317 - val_accuracy: 0.9306\nEpoch 15/100\n938/938 - 32s - loss: 0.3984 - accuracy: 0.8760 - val_loss: 0.2187 - val_accuracy: 0.9355\nEpoch 16/100\n938/938 - 43s - loss: 0.3714 - accuracy: 0.8837 - val_loss: 0.1985 - val_accuracy: 0.9406\nEpoch 17/100\n938/938 - 33s - loss: 0.3440 - accuracy: 0.8931 - val_loss: 0.1806 - val_accuracy: 0.9458\nEpoch 18/100\n938/938 - 33s - loss: 0.3227 - accuracy: 0.9017 - val_loss: 0.1743 - val_accuracy: 0.9473\nEpoch 19/100\n938/938 - 33s - loss: 0.3016 - accuracy: 0.9071 - val_loss: 0.1626 - val_accuracy: 0.9514\nEpoch 20/100\n938/938 - 32s - loss: 0.2922 - accuracy: 0.9119 - val_loss: 0.1631 - val_accuracy: 0.9479\nEpoch 21/100\n938/938 - 32s - loss: 0.2801 - accuracy: 0.9158 - val_loss: 0.1522 - val_accuracy: 0.9526\nEpoch 22/100\n938/938 - 32s - loss: 0.2651 - accuracy: 0.9204 - val_loss: 0.1448 - val_accuracy: 0.9554\nEpoch 23/100\n938/938 - 32s - loss: 0.2537 - accuracy: 0.9231 - val_loss: 0.1442 - val_accuracy: 0.9554\nEpoch 24/100\n938/938 - 32s - loss: 0.2464 - accuracy: 0.9258 - val_loss: 0.1333 - val_accuracy: 0.9582\nEpoch 25/100\n938/938 - 32s - loss: 0.2339 - accuracy: 0.9299 - val_loss: 0.1316 - val_accuracy: 0.9595\nEpoch 26/100\n938/938 - 32s - loss: 0.2294 - accuracy: 0.9309 - val_loss: 0.1212 - val_accuracy: 0.9612\nEpoch 27/100\n938/938 - 32s - loss: 0.2204 - accuracy: 0.9344 - val_loss: 0.1201 - val_accuracy: 0.9620\nEpoch 28/100\n938/938 - 32s - loss: 0.2118 - accuracy: 0.9363 - val_loss: 0.1181 - val_accuracy: 0.9631\nEpoch 29/100\n938/938 - 32s - loss: 0.2095 - accuracy: 0.9380 - val_loss: 0.1135 - val_accuracy: 0.9628\nEpoch 30/100\n938/938 - 32s - loss: 0.2010 - accuracy: 0.9395 - val_loss: 0.1087 - val_accuracy: 0.9650\nEpoch 31/100\n938/938 - 32s - loss: 0.1993 - accuracy: 0.9404 - val_loss: 0.1091 - val_accuracy: 0.9648\nEpoch 32/100\n938/938 - 32s - loss: 0.1938 - accuracy: 0.9433 - val_loss: 0.1026 - val_accuracy: 0.9656\nEpoch 33/100\n938/938 - 32s - loss: 0.1867 - accuracy: 0.9447 - val_loss: 0.1022 - val_accuracy: 0.9660\nEpoch 34/100\n938/938 - 32s - loss: 0.1817 - accuracy: 0.9463 - val_loss: 0.0999 - val_accuracy: 0.9673\nEpoch 35/100\n938/938 - 32s - loss: 0.1761 - accuracy: 0.9479 - val_loss: 0.0976 - val_accuracy: 0.9671\nEpoch 36/100\n938/938 - 32s - loss: 0.1741 - accuracy: 0.9482 - val_loss: 0.0946 - val_accuracy: 0.9684\nEpoch 37/100\n938/938 - 32s - loss: 0.1717 - accuracy: 0.9490 - val_loss: 0.0916 - val_accuracy: 0.9701\nEpoch 38/100\n938/938 - 32s - loss: 0.1679 - accuracy: 0.9501 - val_loss: 0.0947 - val_accuracy: 0.9691\nEpoch 39/100\n938/938 - 32s - loss: 0.1659 - accuracy: 0.9509 - val_loss: 0.0934 - val_accuracy: 0.9700\nEpoch 40/100\n938/938 - 32s - loss: 0.1613 - accuracy: 0.9521 - val_loss: 0.0879 - val_accuracy: 0.9720\nEpoch 41/100\n938/938 - 32s - loss: 0.1566 - accuracy: 0.9534 - val_loss: 0.0854 - val_accuracy: 0.9711\nEpoch 42/100\n938/938 - 33s - loss: 0.1560 - accuracy: 0.9530 - val_loss: 0.0863 - val_accuracy: 0.9706\nEpoch 43/100\n938/938 - 32s - loss: 0.1535 - accuracy: 0.9548 - val_loss: 0.0810 - val_accuracy: 0.9725\nEpoch 44/100\n938/938 - 33s - loss: 0.1499 - accuracy: 0.9557 - val_loss: 0.0799 - val_accuracy: 0.9743\nEpoch 45/100\n938/938 - 34s - loss: 0.1497 - accuracy: 0.9550 - val_loss: 0.0862 - val_accuracy: 0.9710\nEpoch 46/100\n938/938 - 41s - loss: 0.1451 - accuracy: 0.9572 - val_loss: 0.0813 - val_accuracy: 0.9720\nEpoch 47/100\n938/938 - 34s - loss: 0.1414 - accuracy: 0.9581 - val_loss: 0.0755 - val_accuracy: 0.9751\nEpoch 48/100\n938/938 - 33s - loss: 0.1426 - accuracy: 0.9575 - val_loss: 0.0780 - val_accuracy: 0.9749\nEpoch 49/100\n938/938 - 32s - loss: 0.1379 - accuracy: 0.9595 - val_loss: 0.0782 - val_accuracy: 0.9744\nEpoch 50/100\n938/938 - 32s - loss: 0.1355 - accuracy: 0.9592 - val_loss: 0.0774 - val_accuracy: 0.9743\nEpoch 51/100\n938/938 - 32s - loss: 0.1353 - accuracy: 0.9595 - val_loss: 0.0720 - val_accuracy: 0.9767\nEpoch 52/100\n938/938 - 36s - loss: 0.1318 - accuracy: 0.9608 - val_loss: 0.0700 - val_accuracy: 0.9761\nEpoch 53/100\n938/938 - 32s - loss: 0.1330 - accuracy: 0.9609 - val_loss: 0.0732 - val_accuracy: 0.9753\nEpoch 54/100\n938/938 - 32s - loss: 0.1294 - accuracy: 0.9613 - val_loss: 0.0695 - val_accuracy: 0.9777\nEpoch 55/100\n938/938 - 32s - loss: 0.1291 - accuracy: 0.9613 - val_loss: 0.0710 - val_accuracy: 0.9768\nEpoch 56/100\n938/938 - 32s - loss: 0.1252 - accuracy: 0.9632 - val_loss: 0.0686 - val_accuracy: 0.9780\nEpoch 57/100\n938/938 - 32s - loss: 0.1237 - accuracy: 0.9633 - val_loss: 0.0711 - val_accuracy: 0.9770\nEpoch 58/100\n938/938 - 32s - loss: 0.1232 - accuracy: 0.9633 - val_loss: 0.0671 - val_accuracy: 0.9781\nEpoch 59/100\n938/938 - 32s - loss: 0.1228 - accuracy: 0.9631 - val_loss: 0.0732 - val_accuracy: 0.9751\nEpoch 60/100\n938/938 - 32s - loss: 0.1216 - accuracy: 0.9641 - val_loss: 0.0675 - val_accuracy: 0.9784\nEpoch 61/100\n938/938 - 32s - loss: 0.1214 - accuracy: 0.9641 - val_loss: 0.0662 - val_accuracy: 0.9782\nEpoch 62/100\n938/938 - 32s - loss: 0.1165 - accuracy: 0.9650 - val_loss: 0.0629 - val_accuracy: 0.9796\nEpoch 63/100\n938/938 - 32s - loss: 0.1170 - accuracy: 0.9659 - val_loss: 0.0626 - val_accuracy: 0.9797\nEpoch 64/100\n938/938 - 32s - loss: 0.1134 - accuracy: 0.9659 - val_loss: 0.0711 - val_accuracy: 0.9753\nEpoch 65/100\n938/938 - 32s - loss: 0.1113 - accuracy: 0.9668 - val_loss: 0.0641 - val_accuracy: 0.9783\nEpoch 66/100\n938/938 - 32s - loss: 0.1091 - accuracy: 0.9665 - val_loss: 0.0679 - val_accuracy: 0.9770\nEpoch 67/100\n938/938 - 32s - loss: 0.1108 - accuracy: 0.9668 - val_loss: 0.0601 - val_accuracy: 0.9805\nEpoch 68/100\n938/938 - 32s - loss: 0.1104 - accuracy: 0.9675 - val_loss: 0.0628 - val_accuracy: 0.9788\nEpoch 69/100\n938/938 - 33s - loss: 0.1078 - accuracy: 0.9677 - val_loss: 0.0648 - val_accuracy: 0.9805\nEpoch 70/100\n938/938 - 32s - loss: 0.1098 - accuracy: 0.9678 - val_loss: 0.0613 - val_accuracy: 0.9793\nEpoch 71/100\n938/938 - 32s - loss: 0.1055 - accuracy: 0.9681 - val_loss: 0.0611 - val_accuracy: 0.9799\nEpoch 72/100\n938/938 - 32s - loss: 0.1058 - accuracy: 0.9689 - val_loss: 0.0633 - val_accuracy: 0.9789\n\nEpoch 00072: ReduceLROnPlateau reducing learning rate to 0.00010000000474974513.\nEpoch 73/100\n938/938 - 32s - loss: 0.1022 - accuracy: 0.9705 - val_loss: 0.0574 - val_accuracy: 0.9814\nEpoch 74/100\n938/938 - 32s - loss: 0.1017 - accuracy: 0.9689 - val_loss: 0.0571 - val_accuracy: 0.9815\nEpoch 75/100\n938/938 - 32s - loss: 0.0999 - accuracy: 0.9700 - val_loss: 0.0578 - val_accuracy: 0.9816\nEpoch 76/100\n938/938 - 32s - loss: 0.0998 - accuracy: 0.9710 - val_loss: 0.0579 - val_accuracy: 0.9814\nEpoch 77/100\n938/938 - 32s - loss: 0.1014 - accuracy: 0.9707 - val_loss: 0.0571 - val_accuracy: 0.9814\nEpoch 78/100\n938/938 - 32s - loss: 0.1002 - accuracy: 0.9703 - val_loss: 0.0576 - val_accuracy: 0.9814\nEpoch 79/100\n938/938 - 32s - loss: 0.0993 - accuracy: 0.9698 - val_loss: 0.0572 - val_accuracy: 0.9814\n\nEpoch 00079: ReduceLROnPlateau reducing learning rate to 0.0001.\nEpoch 80/100\n938/938 - 32s - loss: 0.0980 - accuracy: 0.9704 - val_loss: 0.0574 - val_accuracy: 0.9810\nEpoch 81/100\n938/938 - 32s - loss: 0.1017 - accuracy: 0.9700 - val_loss: 0.0575 - val_accuracy: 0.9817\nEpoch 82/100\n938/938 - 32s - loss: 0.0978 - accuracy: 0.9714 - val_loss: 0.0572 - val_accuracy: 0.9816\nEpoch 83/100\n938/938 - 32s - loss: 0.0997 - accuracy: 0.9707 - val_loss: 0.0572 - val_accuracy: 0.9811\nEpoch 84/100\n938/938 - 32s - loss: 0.0999 - accuracy: 0.9709 - val_loss: 0.0563 - val_accuracy: 0.9815\nEpoch 85/100\n938/938 - 32s - loss: 0.0996 - accuracy: 0.9711 - val_loss: 0.0565 - val_accuracy: 0.9816\nEpoch 86/100\n938/938 - 32s - loss: 0.0995 - accuracy: 0.9709 - val_loss: 0.0562 - val_accuracy: 0.9817\nEpoch 87/100\n938/938 - 32s - loss: 0.0976 - accuracy: 0.9718 - val_loss: 0.0569 - val_accuracy: 0.9812\nEpoch 88/100\n938/938 - 32s - loss: 0.0988 - accuracy: 0.9710 - val_loss: 0.0564 - val_accuracy: 0.9818\nEpoch 89/100\n938/938 - 51s - loss: 0.0975 - accuracy: 0.9715 - val_loss: 0.0560 - val_accuracy: 0.9821\nEpoch 90/100\n938/938 - 38s - loss: 0.0999 - accuracy: 0.9703 - val_loss: 0.0563 - val_accuracy: 0.9813\nEpoch 91/100\n938/938 - 32s - loss: 0.0973 - accuracy: 0.9708 - val_loss: 0.0568 - val_accuracy: 0.9817\nEpoch 92/100\n938/938 - 32s - loss: 0.1001 - accuracy: 0.9703 - val_loss: 0.0564 - val_accuracy: 0.9816\nEpoch 93/100\n938/938 - 33s - loss: 0.0962 - accuracy: 0.9718 - val_loss: 0.0567 - val_accuracy: 0.9819\nEpoch 94/100\n938/938 - 34s - loss: 0.0974 - accuracy: 0.9710 - val_loss: 0.0561 - val_accuracy: 0.9820\nEpoch 95/100\n938/938 - 32s - loss: 0.0984 - accuracy: 0.9707 - val_loss: 0.0563 - val_accuracy: 0.9818\nEpoch 96/100\n938/938 - 32s - loss: 0.0981 - accuracy: 0.9711 - val_loss: 0.0561 - val_accuracy: 0.9819\nEpoch 97/100\n938/938 - 46s - loss: 0.0993 - accuracy: 0.9708 - val_loss: 0.0562 - val_accuracy: 0.9821\nEpoch 98/100\n938/938 - 35s - loss: 0.0974 - accuracy: 0.9703 - val_loss: 0.0564 - val_accuracy: 0.9817\nEpoch 99/100\n938/938 - 34s - loss: 0.0975 - accuracy: 0.9708 - val_loss: 0.0565 - val_accuracy: 0.9817\nEpoch 100/100\n938/938 - 32s - loss: 0.0989 - accuracy: 0.9705 - val_loss: 0.0561 - val_accuracy: 0.9818\n",
     "output_type": "stream"
    },
    {
     "output_type": "execute_result",
     "execution_count": 15,
     "data": {
      "text/plain": "<tensorflow.python.keras.callbacks.History at 0x7facd3c3c550>"
     },
     "metadata": {}
    }
   ]
  },
  {
   "cell_type": "code",
   "metadata": {
    "tags": [],
    "cell_id": "00016-7895d7f7-ad38-43b0-9ff8-f5a15ea3f643",
    "deepnote_to_be_reexecuted": false,
    "source_hash": "705237de",
    "execution_start": 1628517757612,
    "execution_millis": 16686,
    "deepnote_cell_type": "code"
   },
   "source": "### Check model performance\ntrain_loss, train_acc = cnn_model.evaluate(X_train, y_train, verbose = 1)\ntest_loss, test_acc = cnn_model.evaluate(X_test, y_test, verbose = 1)",
   "execution_count": 16,
   "outputs": [
    {
     "name": "stdout",
     "text": "1875/1875 [==============================] - 14s 7ms/step - loss: 0.0542 - accuracy: 0.9833\n313/313 [==============================] - 2s 7ms/step - loss: 0.0561 - accuracy: 0.9818\n",
     "output_type": "stream"
    }
   ]
  },
  {
   "cell_type": "code",
   "metadata": {
    "tags": [],
    "cell_id": "00012-1b4fa8d5-b016-455d-a3ca-d311eb45c678",
    "deepnote_to_be_reexecuted": false,
    "source_hash": "105a69c1",
    "execution_start": 1628517774295,
    "execution_millis": 14,
    "deepnote_cell_type": "code"
   },
   "source": "### Loss on train dataset\ntrain_loss",
   "execution_count": 17,
   "outputs": [
    {
     "output_type": "execute_result",
     "execution_count": 17,
     "data": {
      "text/plain": "0.05420488864183426"
     },
     "metadata": {}
    }
   ]
  },
  {
   "cell_type": "code",
   "metadata": {
    "tags": [],
    "cell_id": "00014-d6c70cda-e65c-4d1b-8ce2-04302888c0a7",
    "deepnote_to_be_reexecuted": false,
    "source_hash": "8f460e47",
    "execution_start": 1628517774296,
    "execution_millis": 40,
    "deepnote_cell_type": "code"
   },
   "source": "### Accuracy on train dataset\ntrain_acc",
   "execution_count": 18,
   "outputs": [
    {
     "output_type": "execute_result",
     "execution_count": 18,
     "data": {
      "text/plain": "0.983299970626831"
     },
     "metadata": {}
    }
   ]
  },
  {
   "cell_type": "code",
   "metadata": {
    "tags": [],
    "cell_id": "00019-5f166d38-7787-4413-99a3-c46d92e09cff",
    "deepnote_to_be_reexecuted": false,
    "source_hash": "e20db203",
    "execution_start": 1628517774314,
    "execution_millis": 23,
    "deepnote_cell_type": "code"
   },
   "source": "### Loss on test dataset\ntest_loss",
   "execution_count": 19,
   "outputs": [
    {
     "output_type": "execute_result",
     "execution_count": 19,
     "data": {
      "text/plain": "0.05607939884066582"
     },
     "metadata": {}
    }
   ]
  },
  {
   "cell_type": "code",
   "metadata": {
    "tags": [],
    "cell_id": "00020-73ed5522-131f-4309-8f93-a9aa4234dbb3",
    "deepnote_to_be_reexecuted": false,
    "source_hash": "3b4a64b6",
    "execution_start": 1628517774315,
    "execution_millis": 22,
    "deepnote_cell_type": "code"
   },
   "source": "### Accuracy on test dataset\ntest_acc",
   "execution_count": 20,
   "outputs": [
    {
     "output_type": "execute_result",
     "execution_count": 20,
     "data": {
      "text/plain": "0.9818000197410583"
     },
     "metadata": {}
    }
   ]
  },
  {
   "cell_type": "code",
   "metadata": {
    "tags": [],
    "cell_id": "00020-f9231cd9-af92-494a-954c-36cbbbe9ffc1",
    "deepnote_to_be_reexecuted": false,
    "source_hash": "fe23d3e1",
    "execution_start": 1628517774315,
    "execution_millis": 3,
    "deepnote_cell_type": "code"
   },
   "source": "from datetime import datetime\ninstant = datetime.strftime(datetime.now(), '%d%a-%H:%M')",
   "execution_count": 21,
   "outputs": []
  },
  {
   "cell_type": "code",
   "metadata": {
    "tags": [],
    "cell_id": "00021-c95f3653-3e8f-4fbe-9809-d0ea9f29aa54",
    "deepnote_to_be_reexecuted": false,
    "source_hash": "390566a6",
    "execution_start": 1628517774318,
    "execution_millis": 19,
    "deepnote_cell_type": "code"
   },
   "source": "instant",
   "execution_count": 22,
   "outputs": [
    {
     "output_type": "execute_result",
     "execution_count": 22,
     "data": {
      "text/plain": "'09Mon-14:02'"
     },
     "metadata": {}
    }
   ]
  },
  {
   "cell_type": "code",
   "metadata": {
    "tags": [],
    "cell_id": "00021-4cc2e6c1-0311-4d1b-8d58-2abdbaa225e1",
    "deepnote_to_be_reexecuted": false,
    "source_hash": "720f0641",
    "execution_start": 1628520756717,
    "execution_millis": 19,
    "deepnote_cell_type": "code"
   },
   "source": "### Save model weights in .h5 format\ncnn_model.save_weights(filepath = '/work/MNIST_model_weights_{}.h5'.format(datetime.strftime(datetime.now(), '%d%a-%H:%M')),\n                       save_format = 'hdf5')",
   "execution_count": 24,
   "outputs": []
  },
  {
   "cell_type": "code",
   "metadata": {
    "tags": [],
    "cell_id": "00022-8d097255-908e-4d2d-920e-f819d01b4160",
    "deepnote_to_be_reexecuted": false,
    "source_hash": "fd8e847c",
    "execution_start": 1628520756747,
    "execution_millis": 9,
    "deepnote_cell_type": "code"
   },
   "source": "### Save model weights in .hdf5 format\ncnn_model.save_weights(filepath = '/work/MNIST_model_weights_{}.hdf5'.format(datetime.strftime(datetime.now(), '%d%a-%H:%M')),\n                       save_format = 'hdf5')",
   "execution_count": 25,
   "outputs": []
  },
  {
   "cell_type": "code",
   "metadata": {
    "tags": [],
    "cell_id": "00023-e2f69a95-507e-452c-baa0-5f917d5410c4",
    "deepnote_to_be_reexecuted": false,
    "source_hash": "b623e53d",
    "execution_start": 1628520756759,
    "execution_millis": 3,
    "deepnote_cell_type": "code"
   },
   "source": "",
   "execution_count": 25,
   "outputs": []
  },
  {
   "cell_type": "markdown",
   "source": "<a style='text-decoration:none;line-height:16px;display:flex;color:#5B5B62;padding:10px;justify-content:end;' href='https://deepnote.com?utm_source=created-in-deepnote-cell&projectId=cedde139-93f2-4278-8e9d-d80931c4b7dc' target=\"_blank\">\n<img alt='Created in deepnote.com' style='display:inline;max-height:16px;margin:0px;margin-right:7.5px;' src='data:image/svg+xml;base64,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' > </img>\nCreated in <span style='font-weight:600;margin-left:4px;'>Deepnote</span></a>",
   "metadata": {
    "tags": [],
    "created_in_deepnote_cell": true,
    "deepnote_cell_type": "markdown"
   }
  }
 ],
 "nbformat": 4,
 "nbformat_minor": 2,
 "metadata": {
  "orig_nbformat": 2,
  "deepnote": {
   "is_reactive": false
  },
  "deepnote_notebook_id": "d923d23a-037a-4f93-8599-e1a03181aa95",
  "deepnote_execution_queue": []
 }
}