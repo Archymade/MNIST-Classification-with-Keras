{
 "cells": [
  {
   "cell_type": "code",
   "metadata": {
    "tags": [],
    "cell_id": "00000-51185e0e-baa2-4699-a752-4e104f30b892",
    "deepnote_to_be_reexecuted": false,
    "source_hash": "f50f5268",
    "execution_start": 1628242622761,
    "execution_millis": 7736,
    "deepnote_cell_type": "code"
   },
   "source": "### Import tensorflow, keras, and numpy\nimport tensorflow as tf\nfrom tensorflow import keras\nimport numpy as np",
   "execution_count": null,
   "outputs": [
    {
     "name": "stderr",
     "text": "2021-08-06 09:37:02.911347: W tensorflow/stream_executor/platform/default/dso_loader.cc:60] Could not load dynamic library 'libcudart.so.11.0'; dlerror: libcudart.so.11.0: cannot open shared object file: No such file or directory\n2021-08-06 09:37:02.911401: I tensorflow/stream_executor/cuda/cudart_stub.cc:29] Ignore above cudart dlerror if you do not have a GPU set up on your machine.\n",
     "output_type": "stream"
    }
   ]
  },
  {
   "cell_type": "code",
   "metadata": {
    "tags": [],
    "cell_id": "00001-f5bf9eb8-7db1-42b5-b612-44fdb9c5bc8e",
    "deepnote_to_be_reexecuted": false,
    "source_hash": "e9ece427",
    "execution_start": 1628242630501,
    "execution_millis": 140,
    "deepnote_cell_type": "code"
   },
   "source": "### Import required objects from keras\nfrom keras.datasets import mnist\nfrom keras.layers import Dense, Conv2D, BatchNormalization, MaxPool2D\nfrom keras.layers import Activation, Input, Flatten, Dropout\nfrom keras.models import Model\nfrom keras.utils import to_categorical",
   "execution_count": null,
   "outputs": []
  },
  {
   "cell_type": "code",
   "metadata": {
    "tags": [],
    "cell_id": "00002-9bb76102-f33c-4ad3-8b14-2c138b7405d9",
    "deepnote_to_be_reexecuted": false,
    "source_hash": "d264babf",
    "execution_start": 1628242630687,
    "execution_millis": 827,
    "deepnote_cell_type": "code"
   },
   "source": "### Load in the dataset\n(X_train, y_train), (X_test, y_test) = mnist.load_data()\n\n### Number of classes\nprint(f'The dataset has {len(np.unique(y_train))} distinct classes.')\n\n### Scale down the datasets\nX_train, X_test = X_train.astype('float32')/255, X_test.astype('float32')/255\n\n### Network params\nIMAGE_SIZE = X_train.shape[1]\nBATCH_SIZE = 64\nINPUT_SHAPE = [IMAGE_SIZE, IMAGE_SIZE, 1] ### Image width, image height, number of channels",
   "execution_count": null,
   "outputs": [
    {
     "name": "stdout",
     "text": "Downloading data from https://storage.googleapis.com/tensorflow/tf-keras-datasets/mnist.npz\n11493376/11490434 [==============================] - 0s 0us/step\nThe dataset has 10 distinct classes.\n",
     "output_type": "stream"
    }
   ]
  },
  {
   "cell_type": "code",
   "metadata": {
    "tags": [],
    "cell_id": "00003-e1972f6b-0d2c-40ba-a445-c7a79bd06522",
    "deepnote_to_be_reexecuted": false,
    "source_hash": "7ae7c908",
    "execution_start": 1628242631534,
    "execution_millis": 37,
    "deepnote_cell_type": "code"
   },
   "source": "IMAGE_SIZE",
   "execution_count": null,
   "outputs": [
    {
     "output_type": "execute_result",
     "execution_count": 4,
     "data": {
      "text/plain": "28"
     },
     "metadata": {}
    }
   ]
  },
  {
   "cell_type": "code",
   "metadata": {
    "tags": [],
    "cell_id": "00004-0e8968ec-1050-47df-887e-27762d498521",
    "deepnote_to_be_reexecuted": false,
    "source_hash": "b92f1a9a",
    "execution_start": 1628242631549,
    "execution_millis": 33,
    "deepnote_cell_type": "code"
   },
   "source": "INPUT_SHAPE",
   "execution_count": null,
   "outputs": [
    {
     "output_type": "execute_result",
     "execution_count": 5,
     "data": {
      "text/plain": "[28, 28, 1]"
     },
     "metadata": {}
    }
   ]
  },
  {
   "cell_type": "code",
   "metadata": {
    "tags": [],
    "cell_id": "00005-39a6f7d0-930e-43e6-91ac-a7329baacf66",
    "deepnote_to_be_reexecuted": false,
    "source_hash": "38f368cd",
    "execution_start": 1628242631560,
    "execution_millis": 27,
    "deepnote_cell_type": "code"
   },
   "source": "X_train.shape",
   "execution_count": null,
   "outputs": [
    {
     "output_type": "execute_result",
     "execution_count": 6,
     "data": {
      "text/plain": "(60000, 28, 28)"
     },
     "metadata": {}
    }
   ]
  },
  {
   "cell_type": "code",
   "metadata": {
    "tags": [],
    "cell_id": "00006-30f426b5-0486-4880-b219-e073f6f05429",
    "deepnote_to_be_reexecuted": false,
    "source_hash": "9cd47083",
    "execution_start": 1628242631613,
    "execution_millis": 13,
    "deepnote_cell_type": "code"
   },
   "source": "y_train.shape",
   "execution_count": null,
   "outputs": [
    {
     "output_type": "execute_result",
     "execution_count": 7,
     "data": {
      "text/plain": "(60000,)"
     },
     "metadata": {}
    }
   ]
  },
  {
   "cell_type": "code",
   "metadata": {
    "tags": [],
    "cell_id": "00007-0f3b31da-ecce-4de5-9937-681bce541be6",
    "deepnote_to_be_reexecuted": false,
    "source_hash": "953a8cdc",
    "execution_start": 1628242631614,
    "execution_millis": 13,
    "deepnote_cell_type": "code"
   },
   "source": "y_test.shape",
   "execution_count": null,
   "outputs": [
    {
     "output_type": "execute_result",
     "execution_count": 8,
     "data": {
      "text/plain": "(10000,)"
     },
     "metadata": {}
    }
   ]
  },
  {
   "cell_type": "code",
   "metadata": {
    "tags": [],
    "cell_id": "00007-8109604f-828c-478b-925c-b265129ba6cd",
    "deepnote_to_be_reexecuted": false,
    "source_hash": "fd7efcb3",
    "execution_start": 1628242631662,
    "execution_millis": 1909810,
    "deepnote_cell_type": "code"
   },
   "source": "### Reshape and one-hot encode class labels\ny_train = np.reshape(y_train, newshape = (60000, 1))\ny_test = np.reshape(y_test, newshape = (10000, 1))\n\ny_train = to_categorical(y_train)\ny_test = to_categorical(y_test)",
   "execution_count": null,
   "outputs": []
  },
  {
   "cell_type": "code",
   "metadata": {
    "tags": [],
    "cell_id": "00004-1a17afd8-6cb9-473d-8d64-01f677d285bc",
    "deepnote_to_be_reexecuted": false,
    "source_hash": "808215c",
    "execution_start": 1628242631663,
    "execution_millis": 1909803,
    "deepnote_cell_type": "code"
   },
   "source": "### Build Encoder\ndef build_encoder():\n    inputs = Input(shape = INPUT_SHAPE, name = 'Input layer')\n    ### 28 BY 28\n    x = Conv2D(filters = 6, kernel_size = 3, padding = 'same') (inputs)\n    x = MaxPool2D(pool_size = 2, padding = 'same') (x)\n    ### 26 BY 26\n    x = Conv2D(filters = 16, kernel_size = 3, padding = 'same', activation = 'relu') (x)\n    x = MaxPool2D(pool_size = 2, padding = 'same') (x)\n    ### 24 BY 24\n    x = Conv2D(filters = 32, kernel_size = 3, padding = 'same', activation = 'relu') (x)\n    x = MaxPool2D(pool_size = 2, padding = 'same') (x)\n    ### 22 BY 22\n    x = Conv2D(filters = 64, kernel_size = 3, padding = 'same', activation = 'relu') (x)\n    x = MaxPool2D(pool_size = 2, padding = 'same') (x)\n\n    ### Flatten\n    x = Flatten() (x)\n    x = Dropout(0.2) (x)\n    x = Dense(128, activation = 'relu') (x)\n    x = Dropout(0.2) (x)\n    x = Dense(64, activation = 'relu') (x)\n    x = Dropout(0.2) (x)\n    x = Dense(10, activation = 'softmax') (x)\n\n    return Model(inputs = inputs, outputs = x)",
   "execution_count": null,
   "outputs": []
  },
  {
   "cell_type": "code",
   "metadata": {
    "tags": [],
    "cell_id": "00005-52145ba1-8279-4509-b880-9880324252de",
    "deepnote_to_be_reexecuted": false,
    "source_hash": "d0e0a7e4",
    "execution_start": 1628242631663,
    "execution_millis": 221,
    "deepnote_cell_type": "code"
   },
   "source": "encoder = build_encoder()",
   "execution_count": null,
   "outputs": [
    {
     "name": "stderr",
     "text": "2021-08-06 09:37:11.658284: I tensorflow/compiler/jit/xla_cpu_device.cc:41] Not creating XLA devices, tf_xla_enable_xla_devices not set\n2021-08-06 09:37:11.662342: W tensorflow/stream_executor/platform/default/dso_loader.cc:60] Could not load dynamic library 'libcuda.so.1'; dlerror: libcuda.so.1: cannot open shared object file: No such file or directory\n2021-08-06 09:37:11.662368: W tensorflow/stream_executor/cuda/cuda_driver.cc:326] failed call to cuInit: UNKNOWN ERROR (303)\n2021-08-06 09:37:11.662391: I tensorflow/stream_executor/cuda/cuda_diagnostics.cc:156] kernel driver does not appear to be running on this host (p-cedde139-93f2-4278-8e9d-d80931c4b7dc): /proc/driver/nvidia/version does not exist\n2021-08-06 09:37:11.662619: I tensorflow/core/platform/cpu_feature_guard.cc:142] This TensorFlow binary is optimized with oneAPI Deep Neural Network Library (oneDNN) to use the following CPU instructions in performance-critical operations:  AVX2 AVX512F FMA\nTo enable them in other operations, rebuild TensorFlow with the appropriate compiler flags.\n2021-08-06 09:37:11.662787: I tensorflow/compiler/jit/xla_gpu_device.cc:99] Not creating XLA devices, tf_xla_enable_xla_devices not set\n",
     "output_type": "stream"
    }
   ]
  },
  {
   "cell_type": "code",
   "metadata": {
    "tags": [],
    "cell_id": "00006-92aa8909-8def-47c7-9573-c7dd1ce183e7",
    "deepnote_to_be_reexecuted": false,
    "source_hash": "c378d663",
    "execution_start": 1628242631889,
    "execution_millis": 23,
    "deepnote_cell_type": "code"
   },
   "source": "### Encoder summary\nencoder.summary()",
   "execution_count": null,
   "outputs": [
    {
     "name": "stdout",
     "text": "Model: \"model\"\n_________________________________________________________________\nLayer (type)                 Output Shape              Param #   \n=================================================================\nInput layer (InputLayer)     [(None, 28, 28, 1)]       0         \n_________________________________________________________________\nconv2d (Conv2D)              (None, 28, 28, 6)         60        \n_________________________________________________________________\nmax_pooling2d (MaxPooling2D) (None, 14, 14, 6)         0         \n_________________________________________________________________\nconv2d_1 (Conv2D)            (None, 14, 14, 16)        880       \n_________________________________________________________________\nmax_pooling2d_1 (MaxPooling2 (None, 7, 7, 16)          0         \n_________________________________________________________________\nconv2d_2 (Conv2D)            (None, 7, 7, 32)          4640      \n_________________________________________________________________\nmax_pooling2d_2 (MaxPooling2 (None, 4, 4, 32)          0         \n_________________________________________________________________\nconv2d_3 (Conv2D)            (None, 4, 4, 64)          18496     \n_________________________________________________________________\nmax_pooling2d_3 (MaxPooling2 (None, 2, 2, 64)          0         \n_________________________________________________________________\nflatten (Flatten)            (None, 256)               0         \n_________________________________________________________________\ndropout (Dropout)            (None, 256)               0         \n_________________________________________________________________\ndense (Dense)                (None, 128)               32896     \n_________________________________________________________________\ndropout_1 (Dropout)          (None, 128)               0         \n_________________________________________________________________\ndense_1 (Dense)              (None, 64)                8256      \n_________________________________________________________________\ndropout_2 (Dropout)          (None, 64)                0         \n_________________________________________________________________\ndense_2 (Dense)              (None, 10)                650       \n=================================================================\nTotal params: 65,878\nTrainable params: 65,878\nNon-trainable params: 0\n_________________________________________________________________\n",
     "output_type": "stream"
    }
   ]
  },
  {
   "cell_type": "code",
   "metadata": {
    "tags": [],
    "cell_id": "00008-a4213081-a7bb-4868-9f97-0fff00c835eb",
    "deepnote_to_be_reexecuted": false,
    "source_hash": "4733e834",
    "execution_start": 1628242631960,
    "execution_millis": 0,
    "deepnote_cell_type": "code"
   },
   "source": "### Import and instantiate optimizer\nfrom keras.optimizers import RMSprop, SGD\noptimizer = SGD(learning_rate = 0.001, momentum = 0.0)\n\n### Compile model\nencoder.compile(loss = 'categorical_crossentropy', optimizer = optimizer,\n                metrics = ['accuracy'])",
   "execution_count": null,
   "outputs": []
  },
  {
   "cell_type": "code",
   "metadata": {
    "tags": [],
    "cell_id": "00010-f16528d0-1845-4bc7-9d28-06dfcf443423",
    "deepnote_to_be_reexecuted": false,
    "source_hash": "37ab892e",
    "execution_start": 1628242632004,
    "execution_millis": 0,
    "deepnote_cell_type": "code"
   },
   "source": "### Import and instantiate a learning rate scheduler\nfrom keras.callbacks import ReduceLROnPlateau\n\nlr_scheduler = ReduceLROnPlateau(monitor = 'val_loss', patience = 5,\n                                 verbose = 1, min_lr = 0.0001, factor = 0.1)",
   "execution_count": null,
   "outputs": []
  },
  {
   "cell_type": "code",
   "metadata": {
    "tags": [],
    "cell_id": "00009-67e7e3f6-8f18-49f2-a3d9-b6a05c2d9073",
    "deepnote_to_be_reexecuted": false,
    "source_hash": "634325bf",
    "execution_start": 1628242632005,
    "execution_millis": 3288832,
    "deepnote_cell_type": "code"
   },
   "source": "### Fit model\nencoder.fit(X_train, y_train, epochs = 100, batch_size = BATCH_SIZE, verbose = 2,\n            callbacks = [lr_scheduler], validation_data = (X_test, y_test))",
   "execution_count": null,
   "outputs": [
    {
     "name": "stderr",
     "text": "2021-08-06 09:37:11.983137: W tensorflow/core/framework/cpu_allocator_impl.cc:80] Allocation of 188160000 exceeds 10% of free system memory.\n2021-08-06 09:37:12.260078: I tensorflow/compiler/mlir/mlir_graph_optimization_pass.cc:116] None of the MLIR optimization passes are enabled (registered 2)\n2021-08-06 09:37:12.271308: I tensorflow/core/platform/profile_utils/cpu_utils.cc:112] CPU Frequency: 2500000000 Hz\nEpoch 1/100\n2021-08-06 09:37:54.336445: W tensorflow/core/framework/cpu_allocator_impl.cc:80] Allocation of 31360000 exceeds 10% of free system memory.\n938/938 - 45s - loss: 2.2985 - accuracy: 0.1180 - val_loss: 2.2862 - val_accuracy: 0.2021\nEpoch 2/100\n938/938 - 40s - loss: 2.2848 - accuracy: 0.1564 - val_loss: 2.2681 - val_accuracy: 0.4089\nEpoch 3/100\n938/938 - 40s - loss: 2.2649 - accuracy: 0.1983 - val_loss: 2.2343 - val_accuracy: 0.4533\nEpoch 4/100\n938/938 - 39s - loss: 2.2274 - accuracy: 0.2420 - val_loss: 2.1580 - val_accuracy: 0.5277\nEpoch 5/100\n938/938 - 39s - loss: 2.1399 - accuracy: 0.2939 - val_loss: 1.9630 - val_accuracy: 0.6036\nEpoch 6/100\n938/938 - 33s - loss: 1.9211 - accuracy: 0.3768 - val_loss: 1.4979 - val_accuracy: 0.6879\nEpoch 7/100\n938/938 - 33s - loss: 1.5287 - accuracy: 0.4969 - val_loss: 0.9620 - val_accuracy: 0.7599\nEpoch 8/100\n938/938 - 33s - loss: 1.1413 - accuracy: 0.6202 - val_loss: 0.6730 - val_accuracy: 0.8149\nEpoch 9/100\n938/938 - 32s - loss: 0.8976 - accuracy: 0.7031 - val_loss: 0.5134 - val_accuracy: 0.8568\nEpoch 10/100\n938/938 - 32s - loss: 0.7363 - accuracy: 0.7596 - val_loss: 0.4109 - val_accuracy: 0.8863\nEpoch 11/100\n938/938 - 33s - loss: 0.6262 - accuracy: 0.8007 - val_loss: 0.3428 - val_accuracy: 0.9022\nEpoch 12/100\n938/938 - 32s - loss: 0.5448 - accuracy: 0.8285 - val_loss: 0.2949 - val_accuracy: 0.9141\nEpoch 13/100\n938/938 - 32s - loss: 0.4830 - accuracy: 0.8513 - val_loss: 0.2579 - val_accuracy: 0.9229\nEpoch 14/100\n938/938 - 32s - loss: 0.4362 - accuracy: 0.8665 - val_loss: 0.2332 - val_accuracy: 0.9296\nEpoch 15/100\n938/938 - 32s - loss: 0.3929 - accuracy: 0.8807 - val_loss: 0.2098 - val_accuracy: 0.9345\nEpoch 16/100\n938/938 - 32s - loss: 0.3643 - accuracy: 0.8906 - val_loss: 0.1920 - val_accuracy: 0.9398\nEpoch 17/100\n938/938 - 33s - loss: 0.3402 - accuracy: 0.8986 - val_loss: 0.1773 - val_accuracy: 0.9441\nEpoch 18/100\n938/938 - 32s - loss: 0.3198 - accuracy: 0.9046 - val_loss: 0.1672 - val_accuracy: 0.9466\nEpoch 19/100\n938/938 - 33s - loss: 0.2973 - accuracy: 0.9107 - val_loss: 0.1636 - val_accuracy: 0.9478\nEpoch 20/100\n938/938 - 33s - loss: 0.2833 - accuracy: 0.9159 - val_loss: 0.1503 - val_accuracy: 0.9527\nEpoch 21/100\n938/938 - 32s - loss: 0.2693 - accuracy: 0.9204 - val_loss: 0.1440 - val_accuracy: 0.9550\nEpoch 22/100\n938/938 - 32s - loss: 0.2582 - accuracy: 0.9222 - val_loss: 0.1375 - val_accuracy: 0.9572\nEpoch 23/100\n938/938 - 33s - loss: 0.2469 - accuracy: 0.9268 - val_loss: 0.1309 - val_accuracy: 0.9600\nEpoch 24/100\n938/938 - 32s - loss: 0.2379 - accuracy: 0.9304 - val_loss: 0.1256 - val_accuracy: 0.9616\nEpoch 25/100\n938/938 - 32s - loss: 0.2265 - accuracy: 0.9329 - val_loss: 0.1191 - val_accuracy: 0.9629\nEpoch 26/100\n938/938 - 33s - loss: 0.2193 - accuracy: 0.9339 - val_loss: 0.1147 - val_accuracy: 0.9649\nEpoch 27/100\n938/938 - 33s - loss: 0.2150 - accuracy: 0.9361 - val_loss: 0.1104 - val_accuracy: 0.9662\nEpoch 28/100\n938/938 - 33s - loss: 0.2068 - accuracy: 0.9377 - val_loss: 0.1084 - val_accuracy: 0.9658\nEpoch 29/100\n938/938 - 33s - loss: 0.2004 - accuracy: 0.9399 - val_loss: 0.1063 - val_accuracy: 0.9665\nEpoch 30/100\n938/938 - 32s - loss: 0.1948 - accuracy: 0.9420 - val_loss: 0.1015 - val_accuracy: 0.9679\nEpoch 31/100\n938/938 - 32s - loss: 0.1901 - accuracy: 0.9435 - val_loss: 0.1026 - val_accuracy: 0.9677\nEpoch 32/100\n938/938 - 33s - loss: 0.1823 - accuracy: 0.9458 - val_loss: 0.0979 - val_accuracy: 0.9686\nEpoch 33/100\n938/938 - 32s - loss: 0.1809 - accuracy: 0.9455 - val_loss: 0.0950 - val_accuracy: 0.9687\nEpoch 34/100\n938/938 - 32s - loss: 0.1741 - accuracy: 0.9497 - val_loss: 0.0959 - val_accuracy: 0.9686\nEpoch 35/100\n938/938 - 33s - loss: 0.1695 - accuracy: 0.9503 - val_loss: 0.0940 - val_accuracy: 0.9711\nEpoch 36/100\n938/938 - 32s - loss: 0.1695 - accuracy: 0.9492 - val_loss: 0.0890 - val_accuracy: 0.9711\nEpoch 37/100\n938/938 - 32s - loss: 0.1638 - accuracy: 0.9524 - val_loss: 0.0876 - val_accuracy: 0.9712\nEpoch 38/100\n938/938 - 32s - loss: 0.1610 - accuracy: 0.9532 - val_loss: 0.0849 - val_accuracy: 0.9730\nEpoch 39/100\n938/938 - 32s - loss: 0.1578 - accuracy: 0.9535 - val_loss: 0.0839 - val_accuracy: 0.9726\nEpoch 40/100\n938/938 - 32s - loss: 0.1525 - accuracy: 0.9553 - val_loss: 0.0840 - val_accuracy: 0.9740\nEpoch 41/100\n938/938 - 32s - loss: 0.1498 - accuracy: 0.9553 - val_loss: 0.0853 - val_accuracy: 0.9713\nEpoch 42/100\n938/938 - 33s - loss: 0.1471 - accuracy: 0.9561 - val_loss: 0.0814 - val_accuracy: 0.9733\nEpoch 43/100\n938/938 - 32s - loss: 0.1474 - accuracy: 0.9562 - val_loss: 0.0777 - val_accuracy: 0.9735\nEpoch 44/100\n938/938 - 32s - loss: 0.1423 - accuracy: 0.9580 - val_loss: 0.0763 - val_accuracy: 0.9741\nEpoch 45/100\n938/938 - 32s - loss: 0.1405 - accuracy: 0.9584 - val_loss: 0.0767 - val_accuracy: 0.9752\nEpoch 46/100\n938/938 - 32s - loss: 0.1385 - accuracy: 0.9596 - val_loss: 0.0790 - val_accuracy: 0.9733\nEpoch 47/100\n938/938 - 32s - loss: 0.1366 - accuracy: 0.9597 - val_loss: 0.0747 - val_accuracy: 0.9749\nEpoch 48/100\n938/938 - 32s - loss: 0.1318 - accuracy: 0.9612 - val_loss: 0.0726 - val_accuracy: 0.9753\nEpoch 49/100\n938/938 - 33s - loss: 0.1323 - accuracy: 0.9610 - val_loss: 0.0780 - val_accuracy: 0.9751\nEpoch 50/100\n938/938 - 32s - loss: 0.1304 - accuracy: 0.9610 - val_loss: 0.0708 - val_accuracy: 0.9764\nEpoch 51/100\n938/938 - 32s - loss: 0.1276 - accuracy: 0.9622 - val_loss: 0.0696 - val_accuracy: 0.9766\nEpoch 52/100\n938/938 - 32s - loss: 0.1262 - accuracy: 0.9629 - val_loss: 0.0674 - val_accuracy: 0.9777\nEpoch 53/100\n938/938 - 32s - loss: 0.1250 - accuracy: 0.9633 - val_loss: 0.0669 - val_accuracy: 0.9779\nEpoch 54/100\n938/938 - 32s - loss: 0.1236 - accuracy: 0.9636 - val_loss: 0.0666 - val_accuracy: 0.9777\nEpoch 55/100\n938/938 - 32s - loss: 0.1191 - accuracy: 0.9649 - val_loss: 0.0645 - val_accuracy: 0.9787\nEpoch 56/100\n938/938 - 32s - loss: 0.1204 - accuracy: 0.9641 - val_loss: 0.0665 - val_accuracy: 0.9790\nEpoch 57/100\n938/938 - 32s - loss: 0.1176 - accuracy: 0.9657 - val_loss: 0.0642 - val_accuracy: 0.9777\nEpoch 58/100\n938/938 - 42s - loss: 0.1192 - accuracy: 0.9649 - val_loss: 0.0651 - val_accuracy: 0.9784\nEpoch 59/100\n938/938 - 34s - loss: 0.1133 - accuracy: 0.9664 - val_loss: 0.0631 - val_accuracy: 0.9791\nEpoch 60/100\n938/938 - 32s - loss: 0.1136 - accuracy: 0.9661 - val_loss: 0.0637 - val_accuracy: 0.9788\nEpoch 61/100\n938/938 - 32s - loss: 0.1131 - accuracy: 0.9661 - val_loss: 0.0632 - val_accuracy: 0.9789\nEpoch 62/100\n938/938 - 32s - loss: 0.1119 - accuracy: 0.9671 - val_loss: 0.0606 - val_accuracy: 0.9800\nEpoch 63/100\n938/938 - 32s - loss: 0.1091 - accuracy: 0.9674 - val_loss: 0.0622 - val_accuracy: 0.9803\nEpoch 64/100\n938/938 - 32s - loss: 0.1082 - accuracy: 0.9687 - val_loss: 0.0599 - val_accuracy: 0.9815\nEpoch 65/100\n938/938 - 32s - loss: 0.1082 - accuracy: 0.9676 - val_loss: 0.0595 - val_accuracy: 0.9798\nEpoch 66/100\n938/938 - 32s - loss: 0.1057 - accuracy: 0.9690 - val_loss: 0.0603 - val_accuracy: 0.9801\nEpoch 67/100\n938/938 - 32s - loss: 0.1058 - accuracy: 0.9685 - val_loss: 0.0581 - val_accuracy: 0.9815\nEpoch 68/100\n938/938 - 32s - loss: 0.1042 - accuracy: 0.9693 - val_loss: 0.0576 - val_accuracy: 0.9813\nEpoch 69/100\n938/938 - 32s - loss: 0.1045 - accuracy: 0.9701 - val_loss: 0.0577 - val_accuracy: 0.9802\nEpoch 70/100\n938/938 - 32s - loss: 0.1006 - accuracy: 0.9696 - val_loss: 0.0591 - val_accuracy: 0.9809\nEpoch 71/100\n938/938 - 32s - loss: 0.1004 - accuracy: 0.9700 - val_loss: 0.0570 - val_accuracy: 0.9820\nEpoch 72/100\n938/938 - 32s - loss: 0.0998 - accuracy: 0.9708 - val_loss: 0.0559 - val_accuracy: 0.9817\nEpoch 73/100\n938/938 - 32s - loss: 0.0981 - accuracy: 0.9704 - val_loss: 0.0564 - val_accuracy: 0.9809\nEpoch 74/100\n938/938 - 32s - loss: 0.0990 - accuracy: 0.9708 - val_loss: 0.0539 - val_accuracy: 0.9824\nEpoch 75/100\n938/938 - 32s - loss: 0.0982 - accuracy: 0.9709 - val_loss: 0.0552 - val_accuracy: 0.9823\nEpoch 76/100\n938/938 - 32s - loss: 0.0965 - accuracy: 0.9716 - val_loss: 0.0559 - val_accuracy: 0.9806\nEpoch 77/100\n938/938 - 32s - loss: 0.0959 - accuracy: 0.9711 - val_loss: 0.0542 - val_accuracy: 0.9823\nEpoch 78/100\n938/938 - 32s - loss: 0.0941 - accuracy: 0.9722 - val_loss: 0.0536 - val_accuracy: 0.9832\nEpoch 79/100\n938/938 - 32s - loss: 0.0927 - accuracy: 0.9721 - val_loss: 0.0518 - val_accuracy: 0.9834\nEpoch 80/100\n938/938 - 32s - loss: 0.0928 - accuracy: 0.9725 - val_loss: 0.0529 - val_accuracy: 0.9828\nEpoch 81/100\n938/938 - 32s - loss: 0.0919 - accuracy: 0.9728 - val_loss: 0.0518 - val_accuracy: 0.9836\nEpoch 82/100\n938/938 - 32s - loss: 0.0889 - accuracy: 0.9735 - val_loss: 0.0513 - val_accuracy: 0.9838\nEpoch 83/100\n938/938 - 32s - loss: 0.0894 - accuracy: 0.9733 - val_loss: 0.0533 - val_accuracy: 0.9823\nEpoch 84/100\n938/938 - 32s - loss: 0.0873 - accuracy: 0.9735 - val_loss: 0.0549 - val_accuracy: 0.9821\nEpoch 85/100\n938/938 - 32s - loss: 0.0888 - accuracy: 0.9734 - val_loss: 0.0513 - val_accuracy: 0.9838\nEpoch 86/100\n938/938 - 32s - loss: 0.0880 - accuracy: 0.9729 - val_loss: 0.0496 - val_accuracy: 0.9849\nEpoch 87/100\n938/938 - 32s - loss: 0.0864 - accuracy: 0.9740 - val_loss: 0.0486 - val_accuracy: 0.9849\nEpoch 88/100\n938/938 - 32s - loss: 0.0856 - accuracy: 0.9750 - val_loss: 0.0482 - val_accuracy: 0.9841\nEpoch 89/100\n938/938 - 32s - loss: 0.0850 - accuracy: 0.9747 - val_loss: 0.0482 - val_accuracy: 0.9840\nEpoch 90/100\n938/938 - 32s - loss: 0.0854 - accuracy: 0.9745 - val_loss: 0.0489 - val_accuracy: 0.9837\nEpoch 91/100\n938/938 - 32s - loss: 0.0834 - accuracy: 0.9743 - val_loss: 0.0483 - val_accuracy: 0.9846\nEpoch 92/100\n938/938 - 32s - loss: 0.0820 - accuracy: 0.9756 - val_loss: 0.0476 - val_accuracy: 0.9850\nEpoch 93/100\n938/938 - 32s - loss: 0.0817 - accuracy: 0.9751 - val_loss: 0.0466 - val_accuracy: 0.9851\nEpoch 94/100\n938/938 - 32s - loss: 0.0813 - accuracy: 0.9755 - val_loss: 0.0465 - val_accuracy: 0.9850\nEpoch 95/100\n938/938 - 32s - loss: 0.0834 - accuracy: 0.9752 - val_loss: 0.0493 - val_accuracy: 0.9844\nEpoch 96/100\n938/938 - 32s - loss: 0.0824 - accuracy: 0.9751 - val_loss: 0.0481 - val_accuracy: 0.9844\nEpoch 97/100\n938/938 - 32s - loss: 0.0800 - accuracy: 0.9767 - val_loss: 0.0469 - val_accuracy: 0.9846\nEpoch 98/100\n938/938 - 45s - loss: 0.0798 - accuracy: 0.9758 - val_loss: 0.0461 - val_accuracy: 0.9861\nEpoch 99/100\n938/938 - 35s - loss: 0.0797 - accuracy: 0.9770 - val_loss: 0.0463 - val_accuracy: 0.9849\nEpoch 100/100\n938/938 - 32s - loss: 0.0794 - accuracy: 0.9763 - val_loss: 0.0478 - val_accuracy: 0.9848\n",
     "output_type": "stream"
    },
    {
     "output_type": "execute_result",
     "execution_count": 16,
     "data": {
      "text/plain": "<tensorflow.python.keras.callbacks.History at 0x7f89ff56ded0>"
     },
     "metadata": {}
    }
   ]
  },
  {
   "cell_type": "code",
   "metadata": {
    "tags": [],
    "cell_id": "00016-7895d7f7-ad38-43b0-9ff8-f5a15ea3f643",
    "deepnote_to_be_reexecuted": false,
    "source_hash": "2e1d9f9a",
    "execution_start": 1628246359300,
    "execution_millis": 16345,
    "deepnote_cell_type": "code"
   },
   "source": "### Check model performance\ntrain_loss, train_acc = encoder.evaluate(X_train, y_train, verbose = 1)\ntest_loss, test_acc = encoder.evaluate(X_test, y_test, verbose = 1)",
   "execution_count": null,
   "outputs": [
    {
     "name": "stdout",
     "text": "   8/1875 [..............................] - ETA: 13s - loss: 0.0655 - accuracy: 0.9805 2021-08-06 10:39:19.154513: W tensorflow/core/framework/cpu_allocator_impl.cc:80] Allocation of 188160000 exceeds 10% of free system memory.\n1875/1875 [==============================] - 14s 7ms/step - loss: 0.0421 - accuracy: 0.9869\n 17/313 [>.............................] - ETA: 1s - loss: 0.0484 - accuracy: 0.98532021-08-06 10:39:33.357330: W tensorflow/core/framework/cpu_allocator_impl.cc:80] Allocation of 31360000 exceeds 10% of free system memory.\n313/313 [==============================] - 2s 7ms/step - loss: 0.0478 - accuracy: 0.9848\n",
     "output_type": "stream"
    }
   ]
  },
  {
   "cell_type": "code",
   "metadata": {
    "tags": [],
    "cell_id": "00012-1b4fa8d5-b016-455d-a3ca-d311eb45c678",
    "deepnote_to_be_reexecuted": false,
    "source_hash": "b2bce1ff",
    "execution_start": 1628246384238,
    "execution_millis": 8,
    "deepnote_cell_type": "code"
   },
   "source": "### Loss on train dataset\ntrain_loss",
   "execution_count": null,
   "outputs": [
    {
     "output_type": "execute_result",
     "execution_count": 22,
     "data": {
      "text/plain": "0.04214317351579666"
     },
     "metadata": {}
    }
   ]
  },
  {
   "cell_type": "code",
   "metadata": {
    "tags": [],
    "cell_id": "00014-d6c70cda-e65c-4d1b-8ce2-04302888c0a7",
    "deepnote_to_be_reexecuted": false,
    "source_hash": "ab35be4f",
    "execution_start": 1628246389142,
    "execution_millis": 9,
    "deepnote_cell_type": "code"
   },
   "source": "### Accuracy on train dataset\ntrain_acc",
   "execution_count": null,
   "outputs": [
    {
     "output_type": "execute_result",
     "execution_count": 23,
     "data": {
      "text/plain": "0.9869499802589417"
     },
     "metadata": {}
    }
   ]
  },
  {
   "cell_type": "code",
   "metadata": {
    "tags": [],
    "cell_id": "00019-5f166d38-7787-4413-99a3-c46d92e09cff",
    "deepnote_to_be_reexecuted": false,
    "source_hash": "9f63bf5a",
    "execution_start": 1628246399727,
    "execution_millis": 41,
    "deepnote_cell_type": "code"
   },
   "source": "### Loss on test dataset\ntest_loss",
   "execution_count": null,
   "outputs": [
    {
     "output_type": "execute_result",
     "execution_count": 25,
     "data": {
      "text/plain": "0.04783645644783974"
     },
     "metadata": {}
    }
   ]
  },
  {
   "cell_type": "code",
   "metadata": {
    "tags": [],
    "cell_id": "00020-73ed5522-131f-4309-8f93-a9aa4234dbb3",
    "deepnote_to_be_reexecuted": false,
    "source_hash": "17a1b96a",
    "execution_start": 1628246402337,
    "execution_millis": 10,
    "deepnote_cell_type": "code"
   },
   "source": "### Accuracy on test dataset\ntest_acc",
   "execution_count": null,
   "outputs": [
    {
     "output_type": "execute_result",
     "execution_count": 26,
     "data": {
      "text/plain": "0.9847999811172485"
     },
     "metadata": {}
    }
   ]
  },
  {
   "cell_type": "code",
   "metadata": {
    "tags": [],
    "cell_id": "00021-4cc2e6c1-0311-4d1b-8d58-2abdbaa225e1",
    "deepnote_to_be_reexecuted": false,
    "source_hash": "7d07598a",
    "execution_start": 1628246552686,
    "execution_millis": 18,
    "deepnote_cell_type": "code"
   },
   "source": "### Save model weights in .h5 format\nencoder.save_weights(filepath = '/work/MNIST_model_weights.h5', save_format = 'hdf5')",
   "execution_count": null,
   "outputs": []
  },
  {
   "cell_type": "code",
   "metadata": {
    "tags": [],
    "cell_id": "00022-8d097255-908e-4d2d-920e-f819d01b4160",
    "deepnote_to_be_reexecuted": false,
    "source_hash": "eb990ec5",
    "execution_start": 1628246569746,
    "execution_millis": 12,
    "deepnote_cell_type": "code"
   },
   "source": "### Save model weights in .hdf5 format\nencoder.save_weights(filepath = '/work/MNIST_model_weights.hdf5', save_format = 'hdf5')",
   "execution_count": null,
   "outputs": []
  },
  {
   "cell_type": "code",
   "metadata": {
    "tags": [],
    "cell_id": "00023-e2f69a95-507e-452c-baa0-5f917d5410c4",
    "deepnote_cell_type": "code"
   },
   "source": "",
   "execution_count": null,
   "outputs": []
  },
  {
   "cell_type": "markdown",
   "source": "<a style='text-decoration:none;line-height:16px;display:flex;color:#5B5B62;padding:10px;justify-content:end;' href='https://deepnote.com?utm_source=created-in-deepnote-cell&projectId=cedde139-93f2-4278-8e9d-d80931c4b7dc' target=\"_blank\">\n<img alt='Created in deepnote.com' style='display:inline;max-height:16px;margin:0px;margin-right:7.5px;' src='data:image/svg+xml;base64,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' > </img>\nCreated in <span style='font-weight:600;margin-left:4px;'>Deepnote</span></a>",
   "metadata": {
    "tags": [],
    "created_in_deepnote_cell": true,
    "deepnote_cell_type": "markdown"
   }
  }
 ],
 "nbformat": 4,
 "nbformat_minor": 2,
 "metadata": {
  "orig_nbformat": 2,
  "deepnote": {
   "is_reactive": false
  },
  "deepnote_notebook_id": "d923d23a-037a-4f93-8599-e1a03181aa95",
  "deepnote_execution_queue": []
 }
}